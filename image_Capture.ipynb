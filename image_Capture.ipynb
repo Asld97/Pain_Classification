{
 "cells": [
  {
   "cell_type": "code",
   "execution_count": null,
   "id": "e51a00b2-b723-46a0-8354-b7fcecae0b56",
   "metadata": {},
   "outputs": [],
   "source": [
    "import cv2 \n",
    "import os\n",
    "import shutil\n",
    "import numpy as np\n",
    "from matplotlib import pyplot as plt\n",
    "%matplotlib qt\n",
    "from tensorflow.keras.models import load_model\n",
    "import tensorflow as tf\n",
    "import tkinter as tk\n",
    "from tkinter import simpledialog, Button\n",
    "from collections import OrderedDict\n",
    "import math"
   ]
  },
  {
   "cell_type": "code",
   "execution_count": 3,
   "id": "60eebc3f-e0ab-4312-afd7-7e2737df7eae",
   "metadata": {},
   "outputs": [],
   "source": [
    "# Active local webcam\n",
    "camera = cv2.VideoCapture(0)"
   ]
  },
  {
   "cell_type": "code",
   "execution_count": 4,
   "id": "e31e85b6-310f-4aaf-bfcf-196d91f72eb8",
   "metadata": {},
   "outputs": [],
   "source": [
    "input_value = ''\n",
    "def click_Pain():\n",
    "    global input_value\n",
    "    input_value = f'Pain'\n",
    "    window.destroy()\n",
    "    \n",
    "def click_Neutral():\n",
    "    global input_value\n",
    "    input_value = f'Neutral'\n",
    "    window.destroy()"
   ]
  },
  {
   "cell_type": "code",
   "execution_count": 34,
   "id": "1537060f-8b38-4765-a8ee-2791df44f945",
   "metadata": {},
   "outputs": [],
   "source": [
    "files = os.listdir('test_images')\n",
    "file_number = int(files[len(files)-1][0])"
   ]
  },
  {
   "cell_type": "code",
   "execution_count": 35,
   "id": "e20480aa-0ec1-42f5-a633-b377d2e1b86e",
   "metadata": {},
   "outputs": [
    {
     "data": {
      "text/plain": [
       "4"
      ]
     },
     "execution_count": 35,
     "metadata": {},
     "output_type": "execute_result"
    }
   ],
   "source": [
    "files\n",
    "file_number\n"
   ]
  },
  {
   "cell_type": "code",
   "execution_count": 41,
   "id": "0c98655d-b213-4413-92cb-9e2a71b230f4",
   "metadata": {},
   "outputs": [
    {
     "name": "stdout",
     "output_type": "stream",
     "text": [
      "Image saved to list\n",
      "Exited camera window\n"
     ]
    }
   ],
   "source": [
    "# Init base variable \n",
    "# List to store images from Image Catcher\n",
    "images = []\n",
    "# Current file number to save image\n",
    "\n",
    "# Get current directory path\n",
    "current_dir = os.getcwd()\n",
    "# Check if 'test_iamges' folder exists, if not create folder\n",
    "if 'test_images' not in os.listdir(path=current_dir):\n",
    "    os.mkdir('test_images')\n",
    "    file_number = 0\n",
    "else:\n",
    "    files = os.listdir('test_images')\n",
    "    file_number = int(files[len(files)-1][0])+1\n",
    "\n",
    "\n",
    "while True:\n",
    "    # Get video frame\n",
    "    _, camera_frame = camera.read()\n",
    "    # Draw rectangle on catched image - show area of proper photo\n",
    "    image_with_border = cv2.rectangle(camera_frame, (100, 100), (500, 500), (255,0,0), 2)\n",
    "    # Show image with drawn border\n",
    "    cv2.imshow(\"Image Catcher\", image_with_border)\n",
    "    # Wait for 1[s] to take an action\n",
    "    pressed_key = cv2.waitKey(1)\n",
    "    # If 'q' button clicked, exit \"Image Catcher\"\n",
    "    if pressed_key == 113:\n",
    "        print('Exited camera window')\n",
    "        # Close all opend Windows\n",
    "        cv2.destroyAllWindows()\n",
    "        break\n",
    "    # If 'space' button clicked, take an image\n",
    "    if pressed_key == 32:\n",
    "        # Get clear frame (without border)\n",
    "        _, image = camera.read()\n",
    "        # Append list with taken image of size 500x500\n",
    "        images.append(image[100:500, 100:500])\n",
    "        # Input window with question: Neutral or Sad    \n",
    "        \n",
    "        # Define window for manual classification\n",
    "        window = tk.Tk()        \n",
    "        # Define window for manual classification        \n",
    "        button_v1 = Button(window, text = \"Pain\", command=click_Pain, width = 100,)\n",
    "        button_v2 = Button(window, text = \"Neutral\", command=click_Neutral,  width = 100)\n",
    "        button_v1.pack(ipadx=10, ipady=10)\n",
    "        button_v2.pack(ipadx=10, ipady=10)\n",
    "        window.mainloop()       \n",
    "        \n",
    "        # input_value = simpledialog.askstring(title=\"Classifie Image\", prompt=\"Neutral or Pain?\")\n",
    "        # Set path to save taken image\n",
    "        image_name = f'test_images/{file_number}_{input_value}.jpg'\n",
    "        # Save image \n",
    "        cv2.imwrite(image_name, image[100:500, 100:500])\n",
    "        # Iterate file name by 1\n",
    "        file_number += 1\n",
    "        # Print information about saved image\n",
    "        print(\"Image saved to list\")"
   ]
  },
  {
   "cell_type": "code",
   "execution_count": 42,
   "id": "6cf6c44a-a8e5-45c7-b17d-47711d408790",
   "metadata": {},
   "outputs": [],
   "source": [
    "# Release used device - built-in camera\n",
    "camera.release()"
   ]
  },
  {
   "cell_type": "code",
   "execution_count": 6,
   "id": "1d9ecec4-2b72-42ac-987b-bb705966bd98",
   "metadata": {},
   "outputs": [],
   "source": [
    "# input_value = simpledialog.askstring(title=\"Classifie Image\", prompt=\"Neutral or Pain?\")"
   ]
  },
  {
   "cell_type": "code",
   "execution_count": 7,
   "id": "768ffa13-f521-4091-9a67-361a3c1da53e",
   "metadata": {},
   "outputs": [],
   "source": [
    "# Reading images from directory\n",
    "images = []\n",
    "images_from_file = os.listdir('test_images')\n",
    "\n",
    "for img_name in images_from_file:\n",
    "    img = cv2.imread(f'test_images/{img_name}')     \n",
    "    images.append(img)"
   ]
  },
  {
   "cell_type": "code",
   "execution_count": 18,
   "id": "13eb6446-ca68-4e37-8733-529a4f64525f",
   "metadata": {},
   "outputs": [
    {
     "name": "stdout",
     "output_type": "stream",
     "text": [
      "1/1 [==============================] - 5s 5s/step\n",
      "1/1 [==============================] - 0s 110ms/step\n",
      "1/1 [==============================] - 0s 69ms/step\n",
      "1/1 [==============================] - 0s 65ms/step\n",
      "1/1 [==============================] - 0s 69ms/step\n",
      "1/1 [==============================] - 0s 62ms/step\n",
      "1/1 [==============================] - 0s 77ms/step\n"
     ]
    }
   ],
   "source": [
    "predict_emotion = []\n",
    "predicted_values = []\n",
    "images_from_file = os.listdir('test_images')\n",
    "# Load pretrain model of CNN\n",
    "model = load_model(os.path.join('models', 'pain_detection_model_VGG16.h5'))\n",
    "# Loop through images list\n",
    "for index, img in enumerate(images):\n",
    "    # Resize image to 256x256 size -> expected size by CNN model\n",
    "    resized_img = tf.image.resize(img, (224,224))\n",
    "    # Predict pain image\n",
    "    predict_emotion.append(model.predict(np.expand_dims(resized_img/255, 0)))\n",
    "    predicted_values.append(predict_emotion[index][0][0])\n",
    "    # Show iamges from list in RGB colors\n",
    "    #cv2.imshow(f'Image_{index}: {predict_emotion[index][0][0]}', img)\n",
    "\n",
    "# Waiting for key action\n",
    "cv2.waitKey(0)\n",
    "# Closing all opend windows with images\n",
    "cv2.destroyAllWindows()\n"
   ]
  },
  {
   "cell_type": "code",
   "execution_count": 9,
   "id": "649ea809-13e6-422c-9cce-3fc0b1c192f1",
   "metadata": {},
   "outputs": [],
   "source": [
    "# Print image using matplotlib-pyplot\n",
    "fig = plt.figure()\n",
    "len(images)%3 \n",
    "for i in range(0, len(images)):\n",
    "    plt.subplot(math.ceil(len(images)/4), 4, i+1)\n",
    "    plt.imshow(cv2.cvtColor(images[i], cv2.COLOR_BGR2RGB))\n",
    "    plt.gca().set_title('%s: %.3f' %(images_from_file[i], predicted_values[i]), fontsize=15)\n",
    "    \n",
    "fig.tight_layout()\n",
    "plt.show()"
   ]
  },
  {
   "cell_type": "code",
   "execution_count": 10,
   "id": "3dc3918d-0215-41d3-9aec-152f785bf533",
   "metadata": {},
   "outputs": [],
   "source": [
    "fig_1 = plt.figure()\n",
    "for index, value in enumerate(predicted_values):\n",
    "    if (images_from_file[index][-11:-4] == \"Neutral\" and value < 0.5) or (images_from_file[index][-8:-4] == \"Pain\" and value > 0.5):    \n",
    "        plt.scatter(index, np.array(value),  color='green', marker ='s', label='Correct Value')\n",
    "    else:\n",
    "        plt.scatter(index, np.array(value),  color='red', marker ='s', label='False Value')\n",
    "plt.plot(np.arange(0, len(predicted_values),1, dtype = int), [0.5 for i in range(len(predicted_values))], color = 'teal', label='Dividing line at 0.5', linewidth=2)\n",
    "fig_1.suptitle('Pain prediction values', fontsize=20)\n",
    "\n",
    "handles, labels = plt.gca().get_legend_handles_labels()\n",
    "by_label = dict(zip(labels, handles))\n",
    "plt.legend(by_label.values(), by_label.keys())\n",
    "\n",
    "plt.show()"
   ]
  },
  {
   "cell_type": "code",
   "execution_count": 11,
   "id": "6d341259-23c7-492d-bbf6-c81289854a8e",
   "metadata": {},
   "outputs": [],
   "source": [
    "fig_1 = plt.figure()\n",
    "plt.scatter(np.arange(0, len(predicted_values),1, dtype = int), np.array(predicted_values),  color='teal', marker ='s', label='Value for each image')\n",
    "plt.plot(np.arange(0, len(predicted_values),1, dtype = int), [0.5 for i in range(len(predicted_values))], color = 'red', label='Dividing line at 0.5', linewidth=2)\n",
    "fig_1.suptitle('Pain prediction values', fontsize=20)\n",
    "plt.legend(loc='upper left')\n",
    "plt.show()"
   ]
  },
  {
   "cell_type": "code",
   "execution_count": 39,
   "id": "f5089281-b1e8-404c-8900-bbcb8ee73448",
   "metadata": {},
   "outputs": [],
   "source": [
    "# Delete 'test_images' directory after finshed work - optional to use\n",
    "# Get current directory path\n",
    "current_dir = os.getcwd()\n",
    "shutil.rmtree(os.path.join(current_dir, 'test_images'))\n"
   ]
  },
  {
   "cell_type": "code",
   "execution_count": null,
   "id": "377a8913-3046-4087-be27-2d04da91463c",
   "metadata": {},
   "outputs": [],
   "source": []
  }
 ],
 "metadata": {
  "kernelspec": {
   "display_name": "Python 3 (ipykernel)",
   "language": "python",
   "name": "python3"
  },
  "language_info": {
   "codemirror_mode": {
    "name": "ipython",
    "version": 3
   },
   "file_extension": ".py",
   "mimetype": "text/x-python",
   "name": "python",
   "nbconvert_exporter": "python",
   "pygments_lexer": "ipython3",
   "version": "3.9.7"
  }
 },
 "nbformat": 4,
 "nbformat_minor": 5
}
