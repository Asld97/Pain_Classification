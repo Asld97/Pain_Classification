{
 "cells": [
  {
   "cell_type": "code",
   "execution_count": null,
   "id": "e51a00b2-b723-46a0-8354-b7fcecae0b56",
   "metadata": {},
   "outputs": [],
   "source": [
    "# Import all dependencies\n",
    "import cv2 \n",
    "import os\n",
    "import shutil\n",
    "import numpy as np\n",
    "from matplotlib import pyplot as plt\n",
    "%matplotlib qt\n",
    "from tensorflow.keras.models import load_model\n",
    "import tensorflow as tf\n",
    "import tkinter as tk\n",
    "from tkinter import simpledialog, Button\n",
    "from collections import OrderedDict\n",
    "import math\n",
    "from natsort import natsorted"
   ]
  },
  {
   "cell_type": "code",
   "execution_count": null,
   "id": "82c1dde0-49eb-4065-ad65-c59c993727fb",
   "metadata": {},
   "outputs": [],
   "source": [
    "# Graphical acceleration\n",
    "gpus = tf.config.experimental.list_physical_devices('GPU')\n",
    "for gpu in gpus: \n",
    "    tf.config.experimental.set_memory_growth(gpu, True)"
   ]
  },
  {
   "cell_type": "code",
   "execution_count": null,
   "id": "60eebc3f-e0ab-4312-afd7-7e2737df7eae",
   "metadata": {},
   "outputs": [],
   "source": [
    "# Active local webcam\n",
    "camera = cv2.VideoCapture(0)"
   ]
  },
  {
   "cell_type": "code",
   "execution_count": null,
   "id": "e31e85b6-310f-4aaf-bfcf-196d91f72eb8",
   "metadata": {},
   "outputs": [],
   "source": [
    "# Functions for data labeling\n",
    "input_value = ''\n",
    "def click_Pain():\n",
    "    global input_value\n",
    "    input_value = f'Pain'\n",
    "    window.destroy()\n",
    "    \n",
    "def click_Neutral():\n",
    "    global input_value\n",
    "    input_value = f'Neutral'\n",
    "    window.destroy()"
   ]
  },
  {
   "cell_type": "code",
   "execution_count": null,
   "id": "0c98655d-b213-4413-92cb-9e2a71b230f4",
   "metadata": {},
   "outputs": [],
   "source": [
    "# Init base variable \n",
    "# List to store images from Image Catcher\n",
    "images = []\n",
    "image_names = []\n",
    "# Get current directory path\n",
    "current_dir = os.getcwd()\n",
    "# Check if 'test_iamges' folder exists, if not create folder\n",
    "if 'test_images' not in os.listdir(path=current_dir):\n",
    "    os.mkdir('test_images')\n",
    "    file_number = 0\n",
    "else:\n",
    "    files = os.listdir('test_images')\n",
    "    # If there is no file, set file_number as 0, otherwise sort list as Windows, and get the number\n",
    "    if not files:\n",
    "        file_number = 0\n",
    "    else:\n",
    "        file_to_check = natsorted(files)[-1]\n",
    "        file_number = int(file_to_check[0:file_to_check.index('_')]) + 1\n",
    "\n",
    "# Image capture loop\n",
    "while True:\n",
    "    # Get video frame\n",
    "    _, camera_frame = camera.read()\n",
    "    # Draw rectangle on catched image - show area of proper photo\n",
    "    image_with_border = cv2.rectangle(camera_frame, (100, 100), (500, 500), (255,0,0), 2)\n",
    "    # Show image with drawn border\n",
    "    cv2.imshow(\"Image Catcher\", image_with_border)\n",
    "    # Wait for 1[s] to take an action\n",
    "    pressed_key = cv2.waitKey(1)\n",
    "    # If 'q' button clicked, exit \"Image Catcher\"\n",
    "    if pressed_key == 113:\n",
    "        print('Exited camera window')\n",
    "        # Close all opend Windows\n",
    "        cv2.destroyAllWindows()\n",
    "        break \n",
    "    # If 'space' button clicked, take an image\n",
    "    if pressed_key == 32:\n",
    "        # Get clear frame (without border)\n",
    "        _, image = camera.read()\n",
    "        # Append list with taken image of size 500x500\n",
    "        images.append(image[100:500, 100:500])         \n",
    "        \n",
    "        # Define window for manual labeling\n",
    "        window = tk.Tk()        \n",
    "        # Define two push buttons with labeling names   \n",
    "        button_v1 = Button(window, text = \"Pain\", command=click_Pain, width = 100,)\n",
    "        button_v2 = Button(window, text = \"Neutral\", command=click_Neutral,  width = 100)\n",
    "        button_v1.pack(ipadx=10, ipady=10)\n",
    "        button_v2.pack(ipadx=10, ipady=10)\n",
    "        window.mainloop()  \n",
    "        \n",
    "        # Set path to save taken image\n",
    "        image_names.append(f'{file_number}_{input_value}.jpg')\n",
    "        # Save image \n",
    "        cv2.imwrite(f'test_images/{image_names[-1]}', image[100:500, 100:500])\n",
    "        # Print information about saved image\n",
    "        print(f\"Image saved to list: {file_number}\") \n",
    "        \n",
    "        # Iterate file name by 1\n",
    "        file_number += 1\n",
    "       "
   ]
  },
  {
   "cell_type": "code",
   "execution_count": null,
   "id": "6cf6c44a-a8e5-45c7-b17d-47711d408790",
   "metadata": {},
   "outputs": [],
   "source": [
    "# Release used device - built-in camera\n",
    "camera.release()"
   ]
  },
  {
   "cell_type": "code",
   "execution_count": null,
   "id": "768ffa13-f521-4091-9a67-361a3c1da53e",
   "metadata": {},
   "outputs": [],
   "source": [
    "# Reading images from directory\n",
    "if not images:\n",
    "    file = 'test_images'\n",
    "    images = []\n",
    "    image_names = os.listdir(file) # Images name read from file\n",
    "\n",
    "    for img_name in image_names:\n",
    "        img = cv2.imread(f'{file}/{img_name}')     \n",
    "        images.append(img)"
   ]
  },
  {
   "cell_type": "code",
   "execution_count": null,
   "id": "13eb6446-ca68-4e37-8733-529a4f64525f",
   "metadata": {},
   "outputs": [],
   "source": [
    "predict_emotion = []\n",
    "predicted_values = []\n",
    "# Load pretrain model of CNN\n",
    "model = load_model(os.path.join('models', 'pain_detection_model_VGG16.h5')) # Change pain_detection_modelVGG16.h5 for diffrent model\n",
    "# Loop through images list\n",
    "for index, img in enumerate(images):\n",
    "    # Resize image to 256x256 size -> expected size by CNN model\n",
    "    resized_img = tf.image.resize(img, (224,224))\n",
    "    # Predict pain image\n",
    "    predict_emotion.append(model.predict(np.expand_dims(resized_img/255, 0)))\n",
    "    predicted_values.append(predict_emotion[index][0][0])\n",
    "    \n",
    "# Waiting for key action\n",
    "cv2.waitKey(0)\n",
    "# Closing all opend windows with images\n",
    "cv2.destroyAllWindows()\n"
   ]
  },
  {
   "cell_type": "code",
   "execution_count": null,
   "id": "649ea809-13e6-422c-9cce-3fc0b1c192f1",
   "metadata": {},
   "outputs": [],
   "source": [
    "# Print images taken with camera with the wages of pain confidance\n",
    "fig = plt.figure()\n",
    "for i in range(0, len(images)):\n",
    "    plt.subplot(math.ceil(len(images)/5), 5, i+1)\n",
    "    plt.imshow(cv2.cvtColor(images[i], cv2.COLOR_BGR2RGB))\n",
    "    plt.gca().set_title('%s: %.3f' %(image_names[i], predicted_values[i]), fontsize=10)    \n",
    "fig.tight_layout()\n",
    "fig.suptitle('Test cases images', fontsize=15)\n",
    "plt.show()"
   ]
  },
  {
   "cell_type": "code",
   "execution_count": null,
   "id": "3dc3918d-0215-41d3-9aec-152f785bf533",
   "metadata": {},
   "outputs": [],
   "source": [
    "# Print scatter plot presenting results - false classification - red, proper classification - green \n",
    "fig_1 = plt.figure()\n",
    "for index, value in enumerate(predicted_values):\n",
    "    if (image_names[index][-11:-4] == (\"Neutral\" or \"_Neutral\") and value < 0.5) or (image_names[index][-8:-4] == (\"Pain\" or \"_Pain\") and value > 0.5):    \n",
    "        plt.scatter(index, np.array(value),  color='green', marker ='s', label='Correct Value')\n",
    "    else:\n",
    "        plt.scatter(index, np.array(value),  color='red', marker ='s', label='False Value')\n",
    "plt.plot(np.arange(0, len(predicted_values),1, dtype = int), [0.5 for i in range(len(predicted_values))], color = 'teal', label='Dividing line at 0.5', linewidth=2)\n",
    "fig_1.suptitle('Pain prediction values', fontsize=15)\n",
    "\n",
    "# Print unique labeles value - depends on data classfication\n",
    "handles, labels = plt.gca().get_legend_handles_labels()\n",
    "by_label = dict(zip(labels, handles))\n",
    "plt.legend(by_label.values(), by_label.keys())\n",
    "plt.xlabel('Images', fontsize=10)\n",
    "plt.ylabel('Wage', fontsize=10)\n",
    "plt.show()"
   ]
  },
  {
   "cell_type": "code",
   "execution_count": null,
   "id": "f5089281-b1e8-404c-8900-bbcb8ee73448",
   "metadata": {},
   "outputs": [],
   "source": [
    "# Delete 'test_images' directory after finshed work - optional to use\n",
    "current_dir = os.getcwd()\n",
    "shutil.rmtree(os.path.join(current_dir, 'test_images'))\n"
   ]
  }
 ],
 "metadata": {
  "kernelspec": {
   "display_name": "Python 3 (ipykernel)",
   "language": "python",
   "name": "python3"
  },
  "language_info": {
   "codemirror_mode": {
    "name": "ipython",
    "version": 3
   },
   "file_extension": ".py",
   "mimetype": "text/x-python",
   "name": "python",
   "nbconvert_exporter": "python",
   "pygments_lexer": "ipython3",
   "version": "3.9.7"
  }
 },
 "nbformat": 4,
 "nbformat_minor": 5
}
